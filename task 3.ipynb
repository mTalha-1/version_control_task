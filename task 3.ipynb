{
 "cells": [
  {
   "cell_type": "markdown",
   "id": "a25bba86",
   "metadata": {},
   "source": [
    "# Variables"
   ]
  },
  {
   "cell_type": "markdown",
   "id": "3b954379",
   "metadata": {},
   "source": [
    "Variables in a module can be accessible within main of that module and can also in other python scripts or projects by importing that module. Variables defined in a module act as attributes of the module, and you can access them using the dot notation."
   ]
  },
  {
   "cell_type": "code",
   "execution_count": 1,
   "id": "91f73933",
   "metadata": {},
   "outputs": [],
   "source": [
    "import add_sub"
   ]
  },
  {
   "cell_type": "code",
   "execution_count": 7,
   "id": "8a8490fd",
   "metadata": {},
   "outputs": [
    {
     "data": {
      "text/plain": [
       "['__builtins__',\n",
       " '__cached__',\n",
       " '__doc__',\n",
       " '__file__',\n",
       " '__loader__',\n",
       " '__name__',\n",
       " '__package__',\n",
       " '__spec__',\n",
       " 'add',\n",
       " 'pi',\n",
       " 'pi_multiply',\n",
       " 'sub']"
      ]
     },
     "execution_count": 7,
     "metadata": {},
     "output_type": "execute_result"
    }
   ],
   "source": [
    "dir(add_sub)"
   ]
  },
  {
   "cell_type": "code",
   "execution_count": 3,
   "id": "66514e4d",
   "metadata": {},
   "outputs": [
    {
     "data": {
      "text/plain": [
       "3.44"
      ]
     },
     "execution_count": 3,
     "metadata": {},
     "output_type": "execute_result"
    }
   ],
   "source": [
    "add_sub.pi"
   ]
  },
  {
   "cell_type": "code",
   "execution_count": 4,
   "id": "f0efd67b",
   "metadata": {},
   "outputs": [],
   "source": [
    "import My_Module"
   ]
  },
  {
   "cell_type": "code",
   "execution_count": 8,
   "id": "282bcbdf",
   "metadata": {},
   "outputs": [
    {
     "data": {
      "text/plain": [
       "['__builtins__',\n",
       " '__cached__',\n",
       " '__doc__',\n",
       " '__file__',\n",
       " '__loader__',\n",
       " '__name__',\n",
       " '__package__',\n",
       " '__spec__',\n",
       " 'my_function',\n",
       " 'my_string',\n",
       " 'my_variable']"
      ]
     },
     "execution_count": 8,
     "metadata": {},
     "output_type": "execute_result"
    }
   ],
   "source": [
    "dir(My_Module)"
   ]
  },
  {
   "cell_type": "code",
   "execution_count": 5,
   "id": "fa8c61ef",
   "metadata": {},
   "outputs": [
    {
     "data": {
      "text/plain": [
       "10"
      ]
     },
     "execution_count": 5,
     "metadata": {},
     "output_type": "execute_result"
    }
   ],
   "source": [
    "My_Module.my_variable"
   ]
  },
  {
   "cell_type": "code",
   "execution_count": 6,
   "id": "40090914",
   "metadata": {},
   "outputs": [
    {
     "data": {
      "text/plain": [
       "'Hello, world!'"
      ]
     },
     "execution_count": 6,
     "metadata": {},
     "output_type": "execute_result"
    }
   ],
   "source": [
    "My_Module.my_string"
   ]
  },
  {
   "cell_type": "markdown",
   "id": "7326af25",
   "metadata": {},
   "source": [
    "# Rename Module"
   ]
  },
  {
   "cell_type": "markdown",
   "id": "ca608ce1",
   "metadata": {},
   "source": [
    "We can also import module by renamining it. If you familiar with **SQL** then you  know about alias, the alias also have same work used to give short name to columns of table and we do it by keyword **as** and in python for renaming module we also use **as** keyword.\n",
    "- It help us to save time of typing full name "
   ]
  },
  {
   "cell_type": "code",
   "execution_count": 9,
   "id": "bcbcd818",
   "metadata": {},
   "outputs": [],
   "source": [
    "import numpy as np "
   ]
  },
  {
   "cell_type": "code",
   "execution_count": 10,
   "id": "972aaa1b",
   "metadata": {},
   "outputs": [
    {
     "data": {
      "text/plain": [
       "array([37, 13, 34,  9, 25, 47, 24, 48, 28, 12])"
      ]
     },
     "execution_count": 10,
     "metadata": {},
     "output_type": "execute_result"
    }
   ],
   "source": [
    "np.random.randint(2,50,10)"
   ]
  },
  {
   "cell_type": "code",
   "execution_count": 11,
   "id": "6f90684a",
   "metadata": {},
   "outputs": [],
   "source": [
    "x = np.array([12,4,2,55,76,34])"
   ]
  },
  {
   "cell_type": "code",
   "execution_count": 12,
   "id": "bbc3ff16",
   "metadata": {},
   "outputs": [
    {
     "data": {
      "text/plain": [
       "76"
      ]
     },
     "execution_count": 12,
     "metadata": {},
     "output_type": "execute_result"
    }
   ],
   "source": [
    "x.max()"
   ]
  },
  {
   "cell_type": "code",
   "execution_count": 13,
   "id": "b38c2120",
   "metadata": {},
   "outputs": [
    {
     "data": {
      "text/plain": [
       "array([[0, 0, 0, 0],\n",
       "       [0, 0, 0, 0],\n",
       "       [0, 0, 0, 0],\n",
       "       [0, 0, 0, 0]])"
      ]
     },
     "execution_count": 13,
     "metadata": {},
     "output_type": "execute_result"
    }
   ],
   "source": [
    "np.zeros((4,4),dtype = int)"
   ]
  },
  {
   "cell_type": "code",
   "execution_count": 14,
   "id": "bbfe7340",
   "metadata": {},
   "outputs": [],
   "source": [
    "import pandas as pd"
   ]
  },
  {
   "cell_type": "code",
   "execution_count": 15,
   "id": "fc3d045c",
   "metadata": {},
   "outputs": [
    {
     "data": {
      "text/html": [
       "<div>\n",
       "<style scoped>\n",
       "    .dataframe tbody tr th:only-of-type {\n",
       "        vertical-align: middle;\n",
       "    }\n",
       "\n",
       "    .dataframe tbody tr th {\n",
       "        vertical-align: top;\n",
       "    }\n",
       "\n",
       "    .dataframe thead th {\n",
       "        text-align: right;\n",
       "    }\n",
       "</style>\n",
       "<table border=\"1\" class=\"dataframe\">\n",
       "  <thead>\n",
       "    <tr style=\"text-align: right;\">\n",
       "      <th></th>\n",
       "      <th>sepal_length</th>\n",
       "      <th>sepal_width</th>\n",
       "      <th>petal_length</th>\n",
       "      <th>petal_width</th>\n",
       "      <th>species</th>\n",
       "    </tr>\n",
       "  </thead>\n",
       "  <tbody>\n",
       "    <tr>\n",
       "      <th>0</th>\n",
       "      <td>5.1</td>\n",
       "      <td>3.5</td>\n",
       "      <td>1.4</td>\n",
       "      <td>0.2</td>\n",
       "      <td>setosa</td>\n",
       "    </tr>\n",
       "    <tr>\n",
       "      <th>1</th>\n",
       "      <td>4.9</td>\n",
       "      <td>3.0</td>\n",
       "      <td>1.4</td>\n",
       "      <td>0.2</td>\n",
       "      <td>setosa</td>\n",
       "    </tr>\n",
       "    <tr>\n",
       "      <th>2</th>\n",
       "      <td>4.7</td>\n",
       "      <td>3.2</td>\n",
       "      <td>1.3</td>\n",
       "      <td>0.2</td>\n",
       "      <td>setosa</td>\n",
       "    </tr>\n",
       "    <tr>\n",
       "      <th>3</th>\n",
       "      <td>4.6</td>\n",
       "      <td>3.1</td>\n",
       "      <td>1.5</td>\n",
       "      <td>0.2</td>\n",
       "      <td>setosa</td>\n",
       "    </tr>\n",
       "    <tr>\n",
       "      <th>4</th>\n",
       "      <td>5.0</td>\n",
       "      <td>3.6</td>\n",
       "      <td>1.4</td>\n",
       "      <td>0.2</td>\n",
       "      <td>setosa</td>\n",
       "    </tr>\n",
       "    <tr>\n",
       "      <th>...</th>\n",
       "      <td>...</td>\n",
       "      <td>...</td>\n",
       "      <td>...</td>\n",
       "      <td>...</td>\n",
       "      <td>...</td>\n",
       "    </tr>\n",
       "    <tr>\n",
       "      <th>145</th>\n",
       "      <td>6.7</td>\n",
       "      <td>3.0</td>\n",
       "      <td>5.2</td>\n",
       "      <td>2.3</td>\n",
       "      <td>virginica</td>\n",
       "    </tr>\n",
       "    <tr>\n",
       "      <th>146</th>\n",
       "      <td>6.3</td>\n",
       "      <td>2.5</td>\n",
       "      <td>5.0</td>\n",
       "      <td>1.9</td>\n",
       "      <td>virginica</td>\n",
       "    </tr>\n",
       "    <tr>\n",
       "      <th>147</th>\n",
       "      <td>6.5</td>\n",
       "      <td>3.0</td>\n",
       "      <td>5.2</td>\n",
       "      <td>2.0</td>\n",
       "      <td>virginica</td>\n",
       "    </tr>\n",
       "    <tr>\n",
       "      <th>148</th>\n",
       "      <td>6.2</td>\n",
       "      <td>3.4</td>\n",
       "      <td>5.4</td>\n",
       "      <td>2.3</td>\n",
       "      <td>virginica</td>\n",
       "    </tr>\n",
       "    <tr>\n",
       "      <th>149</th>\n",
       "      <td>5.9</td>\n",
       "      <td>3.0</td>\n",
       "      <td>5.1</td>\n",
       "      <td>1.8</td>\n",
       "      <td>virginica</td>\n",
       "    </tr>\n",
       "  </tbody>\n",
       "</table>\n",
       "<p>150 rows × 5 columns</p>\n",
       "</div>"
      ],
      "text/plain": [
       "     sepal_length  sepal_width  petal_length  petal_width    species\n",
       "0             5.1          3.5           1.4          0.2     setosa\n",
       "1             4.9          3.0           1.4          0.2     setosa\n",
       "2             4.7          3.2           1.3          0.2     setosa\n",
       "3             4.6          3.1           1.5          0.2     setosa\n",
       "4             5.0          3.6           1.4          0.2     setosa\n",
       "..            ...          ...           ...          ...        ...\n",
       "145           6.7          3.0           5.2          2.3  virginica\n",
       "146           6.3          2.5           5.0          1.9  virginica\n",
       "147           6.5          3.0           5.2          2.0  virginica\n",
       "148           6.2          3.4           5.4          2.3  virginica\n",
       "149           5.9          3.0           5.1          1.8  virginica\n",
       "\n",
       "[150 rows x 5 columns]"
      ]
     },
     "execution_count": 15,
     "metadata": {},
     "output_type": "execute_result"
    }
   ],
   "source": [
    "df = pd.read_csv(\"https://raw.githubusercontent.com/uiuc-cse/data-fa14/gh-pages/data/iris.csv\")\n",
    "df"
   ]
  },
  {
   "cell_type": "code",
   "execution_count": 16,
   "id": "742b4490",
   "metadata": {},
   "outputs": [],
   "source": [
    "import seaborn as sns"
   ]
  },
  {
   "cell_type": "code",
   "execution_count": 17,
   "id": "b48833d7",
   "metadata": {},
   "outputs": [
    {
     "data": {
      "text/plain": [
       "<seaborn.axisgrid.FacetGrid at 0x20330e77d60>"
      ]
     },
     "execution_count": 17,
     "metadata": {},
     "output_type": "execute_result"
    },
    {
     "data": {
      "image/png": "[encoded data removed]",
      "text/plain": [
       "<Figure size 500x500 with 1 Axes>"
      ]
     },
     "metadata": {},
     "output_type": "display_data"
    }
   ],
   "source": [
    "sns.relplot(data=df,x='sepal_length',y='sepal_width')"
   ]
  },
  {
   "cell_type": "code",
   "execution_count": 18,
   "id": "d787f1eb",
   "metadata": {},
   "outputs": [
    {
     "data": {
      "text/plain": [
       "<seaborn.axisgrid.FacetGrid at 0x20330f6ff70>"
      ]
     },
     "execution_count": 18,
     "metadata": {},
     "output_type": "execute_result"
    },
    {
     "data": {
      "image/png": "[encoded data removed]",
      "text/plain": [
       "<Figure size 617.75x500 with 1 Axes>"
      ]
     },
     "metadata": {},
     "output_type": "display_data"
    }
   ],
   "source": [
    "sns.relplot(data=df,x='sepal_length',y='sepal_width',hue='species')"
   ]
  },
  {
   "cell_type": "markdown",
   "id": "b0509e9a",
   "metadata": {},
   "source": [
    "# Built-in-Modules"
   ]
  },
  {
   "cell_type": "markdown",
   "id": "c58476bc",
   "metadata": {},
   "source": [
    "Python provides a rich set of built-in modules that offer various functionalities and utilities. These modules are part of the Python standard library, which means they are available for use without requiring any external installations. <br>\n",
    "Each module serves a specific purpose and provides useful functionality to simplify programming tasks. <br>\n",
    "Following are some built-in-function that I practiced."
   ]
  },
  {
   "cell_type": "code",
   "execution_count": 20,
   "id": "7720a291",
   "metadata": {},
   "outputs": [],
   "source": [
    "import winsound"
   ]
  },
  {
   "cell_type": "code",
   "execution_count": 21,
   "id": "407e5a40",
   "metadata": {},
   "outputs": [],
   "source": [
    "winsound.Beep(500,1000)"
   ]
  },
  {
   "cell_type": "code",
   "execution_count": 22,
   "id": "26f45557",
   "metadata": {},
   "outputs": [],
   "source": [
    "winsound.MessageBeep()"
   ]
  },
  {
   "cell_type": "code",
   "execution_count": 23,
   "id": "a306bade",
   "metadata": {},
   "outputs": [],
   "source": [
    "import math"
   ]
  },
  {
   "cell_type": "code",
   "execution_count": 24,
   "id": "02edc24c",
   "metadata": {},
   "outputs": [
    {
     "data": {
      "text/plain": [
       "5.0"
      ]
     },
     "execution_count": 24,
     "metadata": {},
     "output_type": "execute_result"
    }
   ],
   "source": [
    "math.sqrt(25)"
   ]
  },
  {
   "cell_type": "code",
   "execution_count": 25,
   "id": "740c45b0",
   "metadata": {},
   "outputs": [
    {
     "data": {
      "text/plain": [
       "20922789888000"
      ]
     },
     "execution_count": 25,
     "metadata": {},
     "output_type": "execute_result"
    }
   ],
   "source": [
    "math.factorial(16)"
   ]
  },
  {
   "cell_type": "code",
   "execution_count": 26,
   "id": "8422509e",
   "metadata": {},
   "outputs": [
    {
     "data": {
      "text/plain": [
       "-0.5984600690578581"
      ]
     },
     "execution_count": 26,
     "metadata": {},
     "output_type": "execute_result"
    }
   ],
   "source": [
    "math.cos(180)"
   ]
  },
  {
   "cell_type": "code",
   "execution_count": 27,
   "id": "6d35c446",
   "metadata": {},
   "outputs": [],
   "source": [
    "import os"
   ]
  },
  {
   "cell_type": "code",
   "execution_count": 29,
   "id": "1a1e15a3",
   "metadata": {},
   "outputs": [
    {
     "data": {
      "text/plain": [
       "'F:\\\\Data Science\\\\Python\\\\Python Projects\\\\Codeaza Technolegies Internship'"
      ]
     },
     "execution_count": 29,
     "metadata": {},
     "output_type": "execute_result"
    }
   ],
   "source": [
    "os.getcwd()"
   ]
  },
  {
   "cell_type": "code",
   "execution_count": 30,
   "id": "a76e0d05",
   "metadata": {},
   "outputs": [
    {
     "data": {
      "text/plain": [
       "['.ipynb_checkpoints',\n",
       " '.jovianrc',\n",
       " 'add_sub.py',\n",
       " 'Muhammad Talha Task1.pdf',\n",
       " 'Muhammad Talha Task2 explain document.pdf',\n",
       " 'Muhammad Talha W1 Task12.pdf',\n",
       " 'My_Module.py',\n",
       " 'talha.txt',\n",
       " 'Task 2 explaination video.mp4',\n",
       " 'task 3.ipynb',\n",
       " 'Untitled.ipynb',\n",
       " 'untitled.txt',\n",
       " 'W1-Task1.ipynb',\n",
       " '__pycache__']"
      ]
     },
     "execution_count": 30,
     "metadata": {},
     "output_type": "execute_result"
    }
   ],
   "source": [
    "os.listdir()"
   ]
  },
  {
   "cell_type": "code",
   "execution_count": 31,
   "id": "36cda214",
   "metadata": {},
   "outputs": [],
   "source": [
    "os.chdir('F:\\Data Science\\Python\\PycharmProjects\\Firstprog')"
   ]
  },
  {
   "cell_type": "code",
   "execution_count": 32,
   "id": "72c53f50",
   "metadata": {},
   "outputs": [
    {
     "data": {
      "text/plain": [
       "['.idea',\n",
       " 'AbstractBC.py',\n",
       " 'args_and_kwargs.py',\n",
       " 'bre&cont.py',\n",
       " 'classes_instances&classvariables.py',\n",
       " 'class_methods.py',\n",
       " 'class_method_alternative_constructor.py',\n",
       " 'Couratinespy.py',\n",
       " 'couratines_challenge.py',\n",
       " 'decoratorrrr.py',\n",
       " 'Dictionary.py',\n",
       " 'Else&TryExceptpy.py',\n",
       " 'enumerate_func.py',\n",
       " 'exercise1Dictionary.py',\n",
       " 'Exercise2faultycal.py',\n",
       " 'exercise3binarysearch.py',\n",
       " \"exercise4astrologi's_stars.py\",\n",
       " 'exercise5health_management_system.py',\n",
       " 'exercise6game.py',\n",
       " 'exercise6healthyprogrammer.py',\n",
       " 'Exercise8.py',\n",
       " 'Exercise9NewsReader.py',\n",
       " 'file_readss.py',\n",
       " 'For Loops.py',\n",
       " 'for_loop_with_else.py',\n",
       " 'fstringss.py',\n",
       " 'FunctionCaching.py',\n",
       " 'functionss.py',\n",
       " 'function_caching.py',\n",
       " 'Hammaddiet.txt',\n",
       " 'Hammadexercise.txt',\n",
       " 'if_else&elif.py',\n",
       " 'joinfunction.py',\n",
       " 'JSON_Module.py',\n",
       " 'Kinzadiet.txt',\n",
       " 'Kinzaexercise.txt',\n",
       " 'List.py',\n",
       " 'main.py',\n",
       " 'main1.py',\n",
       " 'main2.py',\n",
       " 'maps,filters,reduce.py',\n",
       " 'modulesss.py',\n",
       " 'more_on_python_file.py',\n",
       " 'MultipleInheritence.py',\n",
       " 'numpy.py',\n",
       " 'OOP1.cpp.py',\n",
       " 'OOP_Exercise.py',\n",
       " 'oop_practise_exercise.py',\n",
       " 'operator_overloading.py',\n",
       " 'osmodulepy.py',\n",
       " 'overriding in classes.py',\n",
       " 'passwordgenerate.py',\n",
       " 'Python comprehensions.py',\n",
       " 'pythonoperatorss.py',\n",
       " 'quiz_break.py',\n",
       " 'recursionsss.py',\n",
       " 'scopess.py',\n",
       " 'self&init_in_class.py',\n",
       " 'Single_inheritence.py',\n",
       " 'songs.mp3',\n",
       " 'StaticMethod.py',\n",
       " 'String_slicing.py',\n",
       " 'talha2.txt',\n",
       " 'Talhachange.txt',\n",
       " 'talhadiet.txt',\n",
       " 'talhaexercise.txt',\n",
       " 'temp',\n",
       " 'Tuple.py',\n",
       " 'Variables.py',\n",
       " 'water.mp3',\n",
       " 'while_loop.py',\n",
       " 'write_and_append.py',\n",
       " '__pycache__']"
      ]
     },
     "execution_count": 32,
     "metadata": {},
     "output_type": "execute_result"
    }
   ],
   "source": [
    "os.listdir()"
   ]
  },
  {
   "cell_type": "code",
   "execution_count": 33,
   "id": "2b4138e9",
   "metadata": {},
   "outputs": [],
   "source": [
    "os.mkdir('tem')"
   ]
  },
  {
   "cell_type": "code",
   "execution_count": 34,
   "id": "77c1b769",
   "metadata": {},
   "outputs": [
    {
     "data": {
      "text/plain": [
       "True"
      ]
     },
     "execution_count": 34,
     "metadata": {},
     "output_type": "execute_result"
    }
   ],
   "source": [
    "os.path.isdir('tem')"
   ]
  },
  {
   "cell_type": "code",
   "execution_count": 35,
   "id": "fe5fa39c",
   "metadata": {},
   "outputs": [
    {
     "data": {
      "text/plain": [
       "True"
      ]
     },
     "execution_count": 35,
     "metadata": {},
     "output_type": "execute_result"
    }
   ],
   "source": [
    "os.path.exists('c://')"
   ]
  },
  {
   "cell_type": "code",
   "execution_count": 36,
   "id": "33a60e95",
   "metadata": {},
   "outputs": [
    {
     "data": {
      "text/plain": [
       "False"
      ]
     },
     "execution_count": 36,
     "metadata": {},
     "output_type": "execute_result"
    }
   ],
   "source": [
    "os.path.isfile('Talha.txt')"
   ]
  },
  {
   "cell_type": "code",
   "execution_count": 37,
   "id": "d6ee8bc6",
   "metadata": {},
   "outputs": [],
   "source": [
    "os.rename('tem','temp')"
   ]
  },
  {
   "cell_type": "code",
   "execution_count": 38,
   "id": "6fe285b4",
   "metadata": {},
   "outputs": [
    {
     "data": {
      "text/plain": [
       "False"
      ]
     },
     "execution_count": 38,
     "metadata": {},
     "output_type": "execute_result"
    }
   ],
   "source": [
    "os.path.exists('tem')"
   ]
  },
  {
   "cell_type": "code",
   "execution_count": 39,
   "id": "951b2f79",
   "metadata": {},
   "outputs": [
    {
     "data": {
      "text/plain": [
       "True"
      ]
     },
     "execution_count": 39,
     "metadata": {},
     "output_type": "execute_result"
    }
   ],
   "source": [
    "os.path.exists('temp')"
   ]
  },
  {
   "cell_type": "code",
   "execution_count": 40,
   "id": "18e8bc68",
   "metadata": {},
   "outputs": [],
   "source": [
    "import random"
   ]
  },
  {
   "cell_type": "code",
   "execution_count": 41,
   "id": "cb316a87",
   "metadata": {},
   "outputs": [
    {
     "name": "stdout",
     "output_type": "stream",
     "text": [
      "0.21393422610800783\n"
     ]
    }
   ],
   "source": [
    "rand = random.random()\n",
    "print(rand)"
   ]
  },
  {
   "cell_type": "code",
   "execution_count": 42,
   "id": "5a4aea13",
   "metadata": {},
   "outputs": [
    {
     "name": "stdout",
     "output_type": "stream",
     "text": [
      "Ali\n"
     ]
    }
   ],
   "source": [
    "list1=[\"Talha\",\"Ali\",\"Humair\",\"mubeen\"]\n",
    "choice = random.choice(list1)\n",
    "print(choice)"
   ]
  },
  {
   "cell_type": "code",
   "execution_count": 43,
   "id": "d7512615",
   "metadata": {},
   "outputs": [
    {
     "name": "stdout",
     "output_type": "stream",
     "text": [
      "['a', 'am', 'Python', 'Developer', 'I']\n"
     ]
    }
   ],
   "source": [
    "ta='I am a Python Developer'.split()\n",
    "(random.shuffle(ta))\n",
    "print(ta)"
   ]
  },
  {
   "cell_type": "code",
   "execution_count": 44,
   "id": "57f476ca",
   "metadata": {},
   "outputs": [
    {
     "name": "stdout",
     "output_type": "stream",
     "text": [
      "[11, 59, 21, 78]\n"
     ]
    }
   ],
   "source": [
    "print(random.sample([1,54,32,78,59,90,21,11],k=4))"
   ]
  },
  {
   "cell_type": "code",
   "execution_count": 45,
   "id": "7425d9c7",
   "metadata": {},
   "outputs": [
    {
     "data": {
      "text/plain": [
       "['BPF',\n",
       " 'LOG4',\n",
       " 'NV_MAGICCONST',\n",
       " 'RECIP_BPF',\n",
       " 'Random',\n",
       " 'SG_MAGICCONST',\n",
       " 'SystemRandom',\n",
       " 'TWOPI',\n",
       " '_ONE',\n",
       " '_Sequence',\n",
       " '_Set',\n",
       " '__all__',\n",
       " '__builtins__',\n",
       " '__cached__',\n",
       " '__doc__',\n",
       " '__file__',\n",
       " '__loader__',\n",
       " '__name__',\n",
       " '__package__',\n",
       " '__spec__',\n",
       " '_accumulate',\n",
       " '_acos',\n",
       " '_bisect',\n",
       " '_ceil',\n",
       " '_cos',\n",
       " '_e',\n",
       " '_exp',\n",
       " '_floor',\n",
       " '_index',\n",
       " '_inst',\n",
       " '_isfinite',\n",
       " '_log',\n",
       " '_os',\n",
       " '_pi',\n",
       " '_random',\n",
       " '_repeat',\n",
       " '_sha512',\n",
       " '_sin',\n",
       " '_sqrt',\n",
       " '_test',\n",
       " '_test_generator',\n",
       " '_urandom',\n",
       " '_warn',\n",
       " 'betavariate',\n",
       " 'choice',\n",
       " 'choices',\n",
       " 'expovariate',\n",
       " 'gammavariate',\n",
       " 'gauss',\n",
       " 'getrandbits',\n",
       " 'getstate',\n",
       " 'lognormvariate',\n",
       " 'normalvariate',\n",
       " 'paretovariate',\n",
       " 'randbytes',\n",
       " 'randint',\n",
       " 'random',\n",
       " 'randrange',\n",
       " 'sample',\n",
       " 'seed',\n",
       " 'setstate',\n",
       " 'shuffle',\n",
       " 'triangular',\n",
       " 'uniform',\n",
       " 'vonmisesvariate',\n",
       " 'weibullvariate']"
      ]
     },
     "execution_count": 45,
     "metadata": {},
     "output_type": "execute_result"
    }
   ],
   "source": [
    "dir(random)"
   ]
  },
  {
   "cell_type": "code",
   "execution_count": 46,
   "id": "8320827d",
   "metadata": {},
   "outputs": [
    {
     "data": {
      "text/plain": [
       "['_STRUCT_TM_ITEMS',\n",
       " '__doc__',\n",
       " '__loader__',\n",
       " '__name__',\n",
       " '__package__',\n",
       " '__spec__',\n",
       " 'altzone',\n",
       " 'asctime',\n",
       " 'ctime',\n",
       " 'daylight',\n",
       " 'get_clock_info',\n",
       " 'gmtime',\n",
       " 'localtime',\n",
       " 'mktime',\n",
       " 'monotonic',\n",
       " 'monotonic_ns',\n",
       " 'perf_counter',\n",
       " 'perf_counter_ns',\n",
       " 'process_time',\n",
       " 'process_time_ns',\n",
       " 'sleep',\n",
       " 'strftime',\n",
       " 'strptime',\n",
       " 'struct_time',\n",
       " 'thread_time',\n",
       " 'thread_time_ns',\n",
       " 'time',\n",
       " 'time_ns',\n",
       " 'timezone',\n",
       " 'tzname']"
      ]
     },
     "execution_count": 46,
     "metadata": {},
     "output_type": "execute_result"
    }
   ],
   "source": [
    "import time\n",
    "dir(time)"
   ]
  },
  {
   "cell_type": "markdown",
   "id": "4867280b",
   "metadata": {},
   "source": [
    "# Importing Specific Function from Module"
   ]
  },
  {
   "cell_type": "raw",
   "id": "4fc92023",
   "metadata": {},
   "source": [
    "Modules contains different functionality and classes, we can access a specific function by **from....import...** statement. We do this when we only need a specific function of module, by importing a specific function we can access it directly without mentioning module name."
   ]
  },
  {
   "cell_type": "code",
   "execution_count": 47,
   "id": "a68675ac",
   "metadata": {},
   "outputs": [
    {
     "name": "stdout",
     "output_type": "stream",
     "text": [
      "2023-06-22 21:00:24.597981\n"
     ]
    }
   ],
   "source": [
    "from datetime import datetime\n",
    "now = datetime.now()\n",
    "print(now)"
   ]
  },
  {
   "cell_type": "code",
   "execution_count": 48,
   "id": "50b1523e",
   "metadata": {},
   "outputs": [],
   "source": [
    "from add_sub import pi_multiply"
   ]
  },
  {
   "cell_type": "code",
   "execution_count": 49,
   "id": "74fca9f6",
   "metadata": {},
   "outputs": [
    {
     "data": {
      "text/plain": [
       "79.12"
      ]
     },
     "execution_count": 49,
     "metadata": {},
     "output_type": "execute_result"
    }
   ],
   "source": [
    "pi_multiply(23)"
   ]
  },
  {
   "cell_type": "markdown",
   "id": "48c863da",
   "metadata": {},
   "source": [
    "we can also import two or more funtions from a module"
   ]
  },
  {
   "cell_type": "code",
   "execution_count": 53,
   "id": "8910538a",
   "metadata": {},
   "outputs": [],
   "source": [
    "from add_sub import add, sub"
   ]
  },
  {
   "cell_type": "code",
   "execution_count": 54,
   "id": "2aea35c8",
   "metadata": {},
   "outputs": [
    {
     "data": {
      "text/plain": [
       "88"
      ]
     },
     "execution_count": 54,
     "metadata": {},
     "output_type": "execute_result"
    }
   ],
   "source": [
    "add(54,34)"
   ]
  },
  {
   "cell_type": "code",
   "execution_count": 55,
   "id": "9b5369a0",
   "metadata": {},
   "outputs": [
    {
     "data": {
      "text/plain": [
       "-136"
      ]
     },
     "execution_count": 55,
     "metadata": {},
     "output_type": "execute_result"
    }
   ],
   "source": [
    "sub(98,234)"
   ]
  },
  {
   "cell_type": "markdown",
   "id": "4667aa6e",
   "metadata": {},
   "source": [
    "# Import Module from Folder"
   ]
  },
  {
   "cell_type": "markdown",
   "id": "a1929843",
   "metadata": {},
   "source": [
    "When we import any module in python the python by default check that module file in current working directory and the system paths.<br> To check system path we use followwing code:"
   ]
  },
  {
   "cell_type": "code",
   "execution_count": 56,
   "id": "56757e2f",
   "metadata": {},
   "outputs": [],
   "source": [
    "import sys"
   ]
  },
  {
   "cell_type": "code",
   "execution_count": 57,
   "id": "0fbe61f8",
   "metadata": {},
   "outputs": [
    {
     "data": {
      "text/plain": [
       "['F:\\\\Data Science\\\\Python\\\\Python Projects\\\\Codeaza Technolegies Internship',\n",
       " 'C:\\\\python 310\\\\python310.zip',\n",
       " 'C:\\\\python 310\\\\DLLs',\n",
       " 'C:\\\\python 310\\\\lib',\n",
       " 'C:\\\\python 310',\n",
       " '',\n",
       " 'C:\\\\python 310\\\\lib\\\\site-packages',\n",
       " 'C:\\\\python 310\\\\lib\\\\site-packages\\\\win32',\n",
       " 'C:\\\\python 310\\\\lib\\\\site-packages\\\\win32\\\\lib',\n",
       " 'C:\\\\python 310\\\\lib\\\\site-packages\\\\Pythonwin']"
      ]
     },
     "execution_count": 57,
     "metadata": {},
     "output_type": "execute_result"
    }
   ],
   "source": [
    "sys.path"
   ]
  },
  {
   "cell_type": "markdown",
   "id": "b2d2d6cc",
   "metadata": {},
   "source": [
    "**If the module which we are importin are in above paths then it will import successfully.** "
   ]
  },
  {
   "cell_type": "markdown",
   "id": "df891496",
   "metadata": {},
   "source": [
    "### module Folder in current working direcctory"
   ]
  },
  {
   "cell_type": "markdown",
   "id": "b04d6213",
   "metadata": {},
   "source": [
    "Let's first look the example in which if the module is in the folder in our working directory then how we can import it"
   ]
  },
  {
   "cell_type": "code",
   "execution_count": 59,
   "id": "e5ed15b2",
   "metadata": {},
   "outputs": [],
   "source": [
    "import modulefolder.my_module as md"
   ]
  },
  {
   "cell_type": "code",
   "execution_count": 60,
   "id": "7a9a61a9",
   "metadata": {},
   "outputs": [
    {
     "data": {
      "text/plain": [
       "57"
      ]
     },
     "execution_count": 60,
     "metadata": {},
     "output_type": "execute_result"
    }
   ],
   "source": [
    "md.add_numbers(23,34)"
   ]
  },
  {
   "cell_type": "code",
   "execution_count": 61,
   "id": "8af26570",
   "metadata": {},
   "outputs": [
    {
     "data": {
      "text/plain": [
       "18"
      ]
     },
     "execution_count": 61,
     "metadata": {},
     "output_type": "execute_result"
    }
   ],
   "source": [
    "md.multiply_numbers(3,6)"
   ]
  },
  {
   "cell_type": "markdown",
   "id": "ee9b95cd",
   "metadata": {},
   "source": [
    "We can see that in that scenario we import by writing folder name and then module name by dot(.) notation.\n"
   ]
  },
  {
   "cell_type": "markdown",
   "id": "d00db437",
   "metadata": {},
   "source": [
    "### Module from other path "
   ]
  },
  {
   "cell_type": "markdown",
   "id": "de36b2c1",
   "metadata": {},
   "source": [
    "To import a module from a folder in Python, you need to ensure that the folder containing the module is part of the Python module search path. <br>\n",
    "**For that we should add the folder path in system path.**"
   ]
  },
  {
   "cell_type": "code",
   "execution_count": 62,
   "id": "07ffeda1",
   "metadata": {},
   "outputs": [],
   "source": [
    "sys.path.append('F:\\Data Science\\other module folder')"
   ]
  },
  {
   "cell_type": "code",
   "execution_count": 63,
   "id": "8c19bdcb",
   "metadata": {},
   "outputs": [],
   "source": [
    "import pathmodule"
   ]
  },
  {
   "cell_type": "code",
   "execution_count": 64,
   "id": "969a7307",
   "metadata": {},
   "outputs": [
    {
     "name": "stdout",
     "output_type": "stream",
     "text": [
      "Welcome! this is an module from other path\n"
     ]
    }
   ],
   "source": [
    "pathmodule.welcome()"
   ]
  },
  {
   "cell_type": "code",
   "execution_count": 65,
   "id": "8e781f0a",
   "metadata": {},
   "outputs": [
    {
     "data": {
      "text/plain": [
       "630720000"
      ]
     },
     "execution_count": 65,
     "metadata": {},
     "output_type": "execute_result"
    }
   ],
   "source": [
    "pathmodule.age_in_sec(20)"
   ]
  },
  {
   "cell_type": "markdown",
   "id": "74ea1f96",
   "metadata": {},
   "source": [
    "# Use cases of modules"
   ]
  },
  {
   "cell_type": "markdown",
   "id": "18359365",
   "metadata": {},
   "source": [
    "There are many use cases of modules in Python:\n",
    "-  **Requests** is a powerful library for making HTTP requests in Python. It simplifies the process of sending HTTP requests and handling responses, making it easier to interact with web services and APIs. It can use in scraping web data.\n",
    "- **NumPy** is a powerful numerical computing library in Python. We can use it in our statistical analysis project to get valuable insights about data.\n",
    "-  **Pandas** module provides functionalities for reading, writing, and manipulating structured data, making it a popular choice for data analysis tasks. It is very useful for exploratory data analysis, data cleaning, and feature engineering tasks.\n",
    "-  **Scikit-learn** is a machine learning library that provides a wide range of algorithms and tools for data mining and data analysis tasks.\n",
    "- **Flask** is a lightweight web framework for building web applications in Python. \n",
    "- **Matplotlib** is a plotting library that enables the creation of various types of static, animated, and interactive visualizations in Python. We can use it to visualize our data to extract xaluable insights."
   ]
  },
  {
   "cell_type": "code",
   "execution_count": null,
   "id": "0f74ba60",
   "metadata": {},
   "outputs": [],
   "source": []
  }
 ],
 "metadata": {
  "kernelspec": {
   "display_name": "Python 3 (ipykernel)",
   "language": "python",
   "name": "python3"
  },
  "language_info": {
   "codemirror_mode": {
    "name": "ipython",
    "version": 3
   },
   "file_extension": ".py",
   "mimetype": "text/x-python",
   "name": "python",
   "nbconvert_exporter": "python",
   "pygments_lexer": "ipython3",
   "version": "3.10.5"
  }
 },
 "nbformat": 4,
 "nbformat_minor": 5
}
